{
 "cells": [
  {
   "cell_type": "code",
   "execution_count": 1,
   "metadata": {},
   "outputs": [
    {
     "name": "stdout",
     "output_type": "stream",
     "text": [
      "\n",
      "            CALCULATE ONLINE (Choose One)\n",
      "            1. Substrack\n",
      "            2. Addition\n",
      "            3. Multiply\n",
      "            4. Divided by\n",
      "            5. Modulus\n",
      "            6. Remainder\n",
      "invalid Input\n",
      "invalid Input\n",
      "invalid Input\n",
      "invalid Input\n",
      "invalid Input\n",
      "5.0 - 2.0 =  3.0\n",
      "7.0 + 7.0 =  14.0\n",
      "2.0 - 4.0 =  -2.0\n",
      "3.0 / 3.0 =  1.0\n",
      "1.0 + 8.0 =  9.0\n",
      "invalid Input\n"
     ]
    }
   ],
   "source": [
    "def kurang(x, y):\n",
    "    return x - y\n",
    "\n",
    "def tambah(x, y):\n",
    "    return x + y\n",
    "\n",
    "def kali(x, y):\n",
    "    return x * y\n",
    "\n",
    "def bagi(x, y):\n",
    "    return x / y\n",
    "\n",
    "def modulus(x, y):\n",
    "    return x % y\n",
    "\n",
    "def remainder(x, y):\n",
    "    return x // y\n",
    "\n",
    "print(\"\"\"\n",
    "            CALCULATE ONLINE (Choose One)\n",
    "            1. Substrack\n",
    "            2. Addition\n",
    "            3. Multiply\n",
    "            4. Divided by\n",
    "            5. Modulus\n",
    "            6. Remainder\"\"\")\n",
    "\n",
    "while True:\n",
    "    cal = input(\"Choose your calculate : \")\n",
    "    if cal in (\"1\", \"2\", \"3\", \"4\", \"5\", \"6\"):\n",
    "        num1 = float(input(\"Input your the First Number :\"))\n",
    "        num2 = float(input(\"Input your the Second Number :\"))\n",
    "\n",
    "        if cal == \"1\":\n",
    "            print(f\"{num1} - {num2} = \", kurang(num1, num2))\n",
    "\n",
    "        elif cal == \"2\":\n",
    "            print(f\"{num1} + {num2} = \", tambah(num1, num2))\n",
    "        \n",
    "        elif cal == \"3\":\n",
    "            print(f\"{num1} * {num2} = \", kali(num1, num2))\n",
    "\n",
    "        elif cal == \"4\":\n",
    "            print(f\"{num1} / {num2} = \", bagi(num1, num2))\n",
    "\n",
    "        elif cal == \"5\":\n",
    "            print(f\"{num1} % {num2} = \", modulus(num1, num2))\n",
    "\n",
    "        elif cal == \"6\":\n",
    "            print(f\"{num1} // {num2} = \", remainder(num1, num2))\n",
    "\n",
    "        ulang = input(\"input Yes/No for repeat the Calculate ?\")\n",
    "        if ulang == \"No\":\n",
    "            break\n",
    "    else:\n",
    "        print(\"invalid Input\")"
   ]
  },
  {
   "cell_type": "code",
   "execution_count": null,
   "metadata": {},
   "outputs": [
    {
     "name": "stdout",
     "output_type": "stream",
     "text": [
      "**********\n",
      "*********\n",
      "********\n",
      "*******\n",
      "******\n",
      "*****\n",
      "****\n",
      "***\n",
      "**\n",
      "*\n"
     ]
    }
   ],
   "source": []
  },
  {
   "cell_type": "code",
   "execution_count": null,
   "metadata": {},
   "outputs": [
    {
     "name": "stdout",
     "output_type": "stream",
     "text": [
      "11\n",
      "6\n",
      "7\n"
     ]
    }
   ],
   "source": [
    "class Kalkulator:\n",
    "    \"\"\"contoh kelas kalkulator sederhana. anggap kelas ini tidak boleh diubah!\"\"\"\n",
    " \n",
    "    def __init__(self, nilai=0):\n",
    "        self.nilai = nilai\n",
    " \n",
    "    def tambah_angka(self, angka1, angka2):\n",
    "        self.nilai = angka1 + angka2\n",
    "        if self.nilai > 9:  # kalkulator sederhana hanya memroses sampai 9\n",
    "            print('kalkulator sederhana melebihi batas angka: {}'.format(self.nilai))\n",
    "        return self.nilai\n",
    "    \n",
    "class KalkulatorKali(Kalkulator):\n",
    "    \"\"\"contoh mewarisi kelas kalkulator sederhana\"\"\"\n",
    " \n",
    "    def kali_angka(self, angka1, angka2):\n",
    "        self.nilai = angka1 * angka2\n",
    "        return self.nilai\n",
    "    \n",
    "    def tambah_angka(self, angka1, angka2): # this is overriding method\n",
    "        self.nilai = angka1 + angka2\n",
    "        return self.nilai\n",
    "\n",
    "class KalkulatorTambah(Kalkulator):\n",
    "\n",
    "    def tambah_angka(self, angka1, angka2):\n",
    "        if angka1 + angka2 <= 9:\n",
    "            super().tambah_angka(angka1, angka2)\n",
    "            # self.nilai = angka1 + angka2\n",
    "            # if self.nilai > 9:  # kalkulator sederhana hanya memroses sampai 9\n",
    "            #     print('kalkulator sederhana melebihi batas angka: {}'.format(self.nilai))\n",
    "            # return self.nilai\n",
    "        else:\n",
    "            self.nilai = angka1 + angka2\n",
    "            return self.nilai\n",
    "\n",
    "tor = Kalkulator()\n",
    "d = tor.tambah_angka(2,7)\n",
    "\n",
    "kal = KalkulatorTambah()\n",
    "s = kal.tambah_angka(2, 9)\n",
    "print(s)\n",
    "\n",
    "kk = KalkulatorKali()\n",
    "k = Kalkulator()\n",
    "a = kk.kali_angka(2, 3)  # sesuai dengan definisi class memiliki fitur kali_angka\n",
    "print(a)\n",
    "\n",
    "# v = k.tambah_angka(5,6)\n",
    "b = kk.tambah_angka(5, 2)  # memiliki fitur tambah_angka karena mewarisi dari Kalkulator\n",
    "print(b)"
   ]
  },
  {
   "cell_type": "code",
   "execution_count": null,
   "metadata": {},
   "outputs": [
    {
     "name": "stdout",
     "output_type": "stream",
     "text": [
      "******\n",
      "*****\n",
      "****\n",
      "***\n",
      "**\n",
      "*\n",
      "*\n",
      "**\n",
      "***\n",
      "****\n",
      "*****\n",
      "******"
     ]
    }
   ],
   "source": [
    "for i in range(0, 6):\n",
    "    for h in range(0, 6 - i):\n",
    "        print(\"*\", end=\"\")\n",
    "    print()\n",
    "for k in range(0, 6):\n",
    "    for l in range(0, 6):\n",
    "        if l > k:\n",
    "            print()\n",
    "            break\n",
    "        else:\n",
    "            print(\"*\", end=\"\")\n",
    "        "
   ]
  },
  {
   "cell_type": "code",
   "execution_count": null,
   "metadata": {},
   "outputs": [
    {
     "name": "stdout",
     "output_type": "stream",
     "text": [
      "9175000\n"
     ]
    }
   ],
   "source": [
    "# Definisikan class Karyawan (sebagai base class)\n",
    "class Karyawan: \n",
    "    nama_perusahaan = 'ABC' \n",
    "    insentif_lembur = 250000\n",
    "    def __init__(self, nama, usia, pendapatan): \n",
    "        self.nama = nama\n",
    "        self.usia = usia \n",
    "        self.pendapatan = pendapatan \n",
    "        self.pendapatan_tambahan = 0\n",
    "    def lembur(self):\n",
    "        self.pendapatan_tambahan += self.insentif_lembur \n",
    "    def tambahan_proyek(self, insentif_proyek):\n",
    "        self.pendapatan_tambahan += insentif_proyek \n",
    "    def total_pendapatan(self):\n",
    "        return self.pendapatan + self.pendapatan_tambahan\n",
    "# Buat class turunan (sebagai inherit class) dari class karyawan, \n",
    "# yaitu class AnalisData\n",
    "class AnalisData(Karyawan):\n",
    "    def __init__(self, nama, usia, pendapatan): \n",
    "        super().__init__ (nama, usia, pendapatan)\n",
    "    # mendefinisikan kembali fungsi lembur() pada class AnalisData \n",
    "    def lembur(self):\n",
    "        # memanggil fungsi lembur pada class Karyawan \n",
    "        super().lembur()\n",
    "        # pendapatan tambahan pada class AnalisData sebesar\n",
    "        # 5 % dari pendapatannya.\n",
    "        self.pendapatan_tambahan += int(self.pendapatan * 0.05)\n",
    "# Buat objek karyawan yang bekerja sebagai AnalisData\n",
    "aksara = AnalisData('Aksara', 25, 8500000)\n",
    "aksara.lembur()\n",
    "print(aksara.total_pendapatan())"
   ]
  }
 ],
 "metadata": {
  "kernelspec": {
   "display_name": "Python 3.10.1 64-bit",
   "language": "python",
   "name": "python3"
  },
  "language_info": {
   "codemirror_mode": {
    "name": "ipython",
    "version": 3
   },
   "file_extension": ".py",
   "mimetype": "text/x-python",
   "name": "python",
   "nbconvert_exporter": "python",
   "pygments_lexer": "ipython3",
   "version": "3.10.1"
  },
  "orig_nbformat": 4,
  "vscode": {
   "interpreter": {
    "hash": "26de051ba29f2982a8de78e945f0abaf191376122a1563185a90213a26c5da77"
   }
  }
 },
 "nbformat": 4,
 "nbformat_minor": 2
}

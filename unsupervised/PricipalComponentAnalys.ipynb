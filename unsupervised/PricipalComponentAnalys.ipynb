{
 "cells": [
  {
   "cell_type": "code",
   "execution_count": 27,
   "metadata": {},
   "outputs": [],
   "source": [
    "from sklearn import datasets\n",
    "from sklearn.model_selection import train_test_split\n",
    "\n",
    "# load data iris dengan import datasets lalu load_iris()\n",
    "iris = datasets.load_iris()\n",
    "\n",
    "# memisahkan atribut dan label dari sebuah dataset iris\n",
    "atribut = iris.data\n",
    "label = iris.target\n",
    "\n",
    "# membuat data train dan data test \n",
    "X_train, X_test, y_train, y_test = train_test_split(atribut, label, test_size=0.2, random_state=1)"
   ]
  },
  {
   "cell_type": "code",
   "execution_count": 4,
   "metadata": {},
   "outputs": [
    {
     "data": {
      "text/plain": [
       "0.9666666666666667"
      ]
     },
     "execution_count": 4,
     "metadata": {},
     "output_type": "execute_result"
    }
   ],
   "source": [
    "from sklearn import tree\n",
    "\n",
    "# membuat objek model decision tree\n",
    "decision_tree = tree.DecisionTreeClassifier()\n",
    "model1 = decision_tree.fit(X_train, y_train)\n",
    "model1.score(X_test, y_test)"
   ]
  },
  {
   "cell_type": "code",
   "execution_count": 30,
   "metadata": {},
   "outputs": [
    {
     "data": {
      "text/plain": [
       "array([0.92848323, 0.04764372, 0.01931005, 0.004563  ])"
      ]
     },
     "execution_count": 30,
     "metadata": {},
     "output_type": "execute_result"
    }
   ],
   "source": [
    "from sklearn.decomposition import PCA\n",
    "\n",
    "# membuat objek pca dengan 4 component karena atribut iris ada 4\n",
    "pca = PCA(n_components=4)\n",
    "\n",
    "# implementasikan kedalam dataset variance adalah value dalam pca\n",
    "pca_attribut = pca.fit_transform(X_train)\n",
    "\n",
    "# cetak value pca atribut\n",
    "pca.explained_variance_ratio_"
   ]
  },
  {
   "cell_type": "code",
   "execution_count": 32,
   "metadata": {},
   "outputs": [],
   "source": [
    "# membuat objek pca dengan 2 component \n",
    "pca = PCA(n_components=2)\n",
    "\n",
    "pca_xtrain = pca.fit_transform(X_train)\n",
    "pca_xtest = pca.fit_transform(X_test)"
   ]
  },
  {
   "cell_type": "code",
   "execution_count": 33,
   "metadata": {},
   "outputs": [
    {
     "data": {
      "text/plain": [
       "0.9333333333333333"
      ]
     },
     "execution_count": 33,
     "metadata": {},
     "output_type": "execute_result"
    }
   ],
   "source": [
    "# menguji akurasi classifier (fit menggunakan train data sedangkan score menggunakan test data)\n",
    "model2 = decision_tree.fit(pca_xtrain, y_train)\n",
    "model2.score(pca_xtest, y_test)"
   ]
  }
 ],
 "metadata": {
  "kernelspec": {
   "display_name": "Python 3.10.1 64-bit",
   "language": "python",
   "name": "python3"
  },
  "language_info": {
   "codemirror_mode": {
    "name": "ipython",
    "version": 3
   },
   "file_extension": ".py",
   "mimetype": "text/x-python",
   "name": "python",
   "nbconvert_exporter": "python",
   "pygments_lexer": "ipython3",
   "version": "3.10.1"
  },
  "orig_nbformat": 4,
  "vscode": {
   "interpreter": {
    "hash": "26de051ba29f2982a8de78e945f0abaf191376122a1563185a90213a26c5da77"
   }
  }
 },
 "nbformat": 4,
 "nbformat_minor": 2
}
